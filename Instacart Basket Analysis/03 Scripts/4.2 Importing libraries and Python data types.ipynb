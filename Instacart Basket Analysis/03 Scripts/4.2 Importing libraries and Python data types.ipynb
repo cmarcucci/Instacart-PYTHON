{
 "cells": [
  {
   "cell_type": "markdown",
   "id": "6389b729",
   "metadata": {},
   "source": [
    "# 01. Importing libraries"
   ]
  },
  {
   "cell_type": "code",
   "execution_count": 4,
   "id": "2829d41a",
   "metadata": {},
   "outputs": [],
   "source": [
    "# Import libraries\n",
    "import pandas as pd\n",
    "import numpy as np\n",
    "import os"
   ]
  },
  {
   "cell_type": "markdown",
   "id": "52c674d9",
   "metadata": {},
   "source": [
    "# 02. Data types"
   ]
  },
  {
   "cell_type": "code",
   "execution_count": 5,
   "id": "9167e5f5",
   "metadata": {},
   "outputs": [],
   "source": [
    "x = 2"
   ]
  },
  {
   "cell_type": "code",
   "execution_count": 6,
   "id": "d884d13d",
   "metadata": {},
   "outputs": [
    {
     "data": {
      "text/plain": [
       "2"
      ]
     },
     "execution_count": 6,
     "metadata": {},
     "output_type": "execute_result"
    }
   ],
   "source": [
    "x"
   ]
  },
  {
   "cell_type": "code",
   "execution_count": 7,
   "id": "dfc7598c",
   "metadata": {},
   "outputs": [
    {
     "name": "stdout",
     "output_type": "stream",
     "text": [
      "2\n"
     ]
    }
   ],
   "source": [
    "print(x)"
   ]
  },
  {
   "cell_type": "code",
   "execution_count": 8,
   "id": "24b77ff0",
   "metadata": {},
   "outputs": [
    {
     "data": {
      "text/plain": [
       "int"
      ]
     },
     "execution_count": 8,
     "metadata": {},
     "output_type": "execute_result"
    }
   ],
   "source": [
    "type(x)"
   ]
  },
  {
   "cell_type": "code",
   "execution_count": 9,
   "id": "81299081",
   "metadata": {},
   "outputs": [],
   "source": [
    "y = 5.678"
   ]
  },
  {
   "cell_type": "code",
   "execution_count": 10,
   "id": "24da3c77",
   "metadata": {},
   "outputs": [
    {
     "data": {
      "text/plain": [
       "float"
      ]
     },
     "execution_count": 10,
     "metadata": {},
     "output_type": "execute_result"
    }
   ],
   "source": [
    "type(y)"
   ]
  },
  {
   "cell_type": "code",
   "execution_count": 11,
   "id": "d77b6f98",
   "metadata": {},
   "outputs": [],
   "source": [
    "z = 'Brazil'"
   ]
  },
  {
   "cell_type": "code",
   "execution_count": 12,
   "id": "701dbae4",
   "metadata": {},
   "outputs": [
    {
     "data": {
      "text/plain": [
       "str"
      ]
     },
     "execution_count": 12,
     "metadata": {},
     "output_type": "execute_result"
    }
   ],
   "source": [
    "type(z)"
   ]
  },
  {
   "cell_type": "code",
   "execution_count": 13,
   "id": "e4845dd9",
   "metadata": {},
   "outputs": [
    {
     "data": {
      "text/plain": [
       "bool"
      ]
     },
     "execution_count": 13,
     "metadata": {},
     "output_type": "execute_result"
    }
   ],
   "source": [
    "type(True)"
   ]
  },
  {
   "cell_type": "code",
   "execution_count": 14,
   "id": "3da4cd25",
   "metadata": {},
   "outputs": [
    {
     "data": {
      "text/plain": [
       "bool"
      ]
     },
     "execution_count": 14,
     "metadata": {},
     "output_type": "execute_result"
    }
   ],
   "source": [
    "type(False)"
   ]
  },
  {
   "cell_type": "code",
   "execution_count": 15,
   "id": "bf77f4a5",
   "metadata": {},
   "outputs": [
    {
     "name": "stdout",
     "output_type": "stream",
     "text": [
      "2\n"
     ]
    }
   ],
   "source": [
    "print(x)"
   ]
  },
  {
   "cell_type": "code",
   "execution_count": 16,
   "id": "fbe13134",
   "metadata": {},
   "outputs": [
    {
     "data": {
      "text/plain": [
       "6"
      ]
     },
     "execution_count": 16,
     "metadata": {},
     "output_type": "execute_result"
    }
   ],
   "source": [
    "x + 4"
   ]
  },
  {
   "cell_type": "code",
   "execution_count": 17,
   "id": "21a9cba2",
   "metadata": {},
   "outputs": [
    {
     "data": {
      "text/plain": [
       "7.678"
      ]
     },
     "execution_count": 17,
     "metadata": {},
     "output_type": "execute_result"
    }
   ],
   "source": [
    "x + y"
   ]
  },
  {
   "cell_type": "code",
   "execution_count": 18,
   "id": "270fa97d",
   "metadata": {},
   "outputs": [],
   "source": [
    "x = x + 4"
   ]
  },
  {
   "cell_type": "code",
   "execution_count": 19,
   "id": "5c3175cc",
   "metadata": {},
   "outputs": [
    {
     "name": "stdout",
     "output_type": "stream",
     "text": [
      "6\n"
     ]
    }
   ],
   "source": [
    "print(x)"
   ]
  },
  {
   "cell_type": "code",
   "execution_count": 23,
   "id": "cde60683",
   "metadata": {},
   "outputs": [],
   "source": [
    "a = 'Hello, '"
   ]
  },
  {
   "cell_type": "code",
   "execution_count": 24,
   "id": "5719346d",
   "metadata": {},
   "outputs": [],
   "source": [
    "b = 'Marley'"
   ]
  },
  {
   "cell_type": "code",
   "execution_count": 25,
   "id": "4c7142e2",
   "metadata": {},
   "outputs": [
    {
     "data": {
      "text/plain": [
       "'Hello, Marley'"
      ]
     },
     "execution_count": 25,
     "metadata": {},
     "output_type": "execute_result"
    }
   ],
   "source": [
    "a + b"
   ]
  },
  {
   "cell_type": "code",
   "execution_count": 26,
   "id": "01aca223",
   "metadata": {},
   "outputs": [],
   "source": [
    "n = 'potato'"
   ]
  },
  {
   "cell_type": "code",
   "execution_count": 27,
   "id": "f8c33db9",
   "metadata": {},
   "outputs": [
    {
     "data": {
      "text/plain": [
       "'potatopotatopotatopotatopotatopotatopotatopotatopotatopotatopotatopotato'"
      ]
     },
     "execution_count": 27,
     "metadata": {},
     "output_type": "execute_result"
    }
   ],
   "source": [
    "n * 12"
   ]
  },
  {
   "cell_type": "code",
   "execution_count": 28,
   "id": "b3e78a2a",
   "metadata": {},
   "outputs": [
    {
     "data": {
      "text/plain": [
       "False"
      ]
     },
     "execution_count": 28,
     "metadata": {},
     "output_type": "execute_result"
    }
   ],
   "source": [
    "x == y"
   ]
  },
  {
   "cell_type": "code",
   "execution_count": 29,
   "id": "3284b237",
   "metadata": {},
   "outputs": [
    {
     "data": {
      "text/plain": [
       "bool"
      ]
     },
     "execution_count": 29,
     "metadata": {},
     "output_type": "execute_result"
    }
   ],
   "source": [
    "type (x == y)"
   ]
  },
  {
   "cell_type": "markdown",
   "id": "71898da6",
   "metadata": {},
   "source": [
    "# 03 Task 4.2"
   ]
  },
  {
   "cell_type": "markdown",
   "id": "fad9f17b",
   "metadata": {},
   "source": [
    "## Code 3 different ways of reaching a result of 100 y adding or subtracting numeric variables"
   ]
  },
  {
   "cell_type": "code",
   "execution_count": 33,
   "id": "fe60cc3a",
   "metadata": {},
   "outputs": [],
   "source": [
    "x1 = 200"
   ]
  },
  {
   "cell_type": "code",
   "execution_count": 34,
   "id": "db006067",
   "metadata": {},
   "outputs": [],
   "source": [
    "x2 = 100"
   ]
  },
  {
   "cell_type": "code",
   "execution_count": 30,
   "id": "aac61cd4",
   "metadata": {},
   "outputs": [],
   "source": [
    "x3 = 50"
   ]
  },
  {
   "cell_type": "code",
   "execution_count": 37,
   "id": "b8753b4e",
   "metadata": {},
   "outputs": [],
   "source": [
    "x4 = 300"
   ]
  },
  {
   "cell_type": "code",
   "execution_count": 35,
   "id": "e94f10c1",
   "metadata": {},
   "outputs": [
    {
     "data": {
      "text/plain": [
       "100"
      ]
     },
     "execution_count": 35,
     "metadata": {},
     "output_type": "execute_result"
    }
   ],
   "source": [
    "x1 - x2"
   ]
  },
  {
   "cell_type": "code",
   "execution_count": 36,
   "id": "96b2b534",
   "metadata": {},
   "outputs": [
    {
     "data": {
      "text/plain": [
       "100"
      ]
     },
     "execution_count": 36,
     "metadata": {},
     "output_type": "execute_result"
    }
   ],
   "source": [
    "x3 + x3"
   ]
  },
  {
   "cell_type": "code",
   "execution_count": 38,
   "id": "bccf3eab",
   "metadata": {},
   "outputs": [
    {
     "data": {
      "text/plain": [
       "100"
      ]
     },
     "execution_count": 38,
     "metadata": {},
     "output_type": "execute_result"
    }
   ],
   "source": [
    "x4 - x1"
   ]
  },
  {
   "cell_type": "markdown",
   "id": "8c9fa885",
   "metadata": {},
   "source": [
    "## Code 2 floating-point variables and divide them by each other"
   ]
  },
  {
   "cell_type": "code",
   "execution_count": 39,
   "id": "7260113c",
   "metadata": {},
   "outputs": [],
   "source": [
    "x5 = 10.5"
   ]
  },
  {
   "cell_type": "code",
   "execution_count": 40,
   "id": "8d8f85c8",
   "metadata": {},
   "outputs": [],
   "source": [
    "x6 = 1.2"
   ]
  },
  {
   "cell_type": "code",
   "execution_count": 41,
   "id": "2dd95090",
   "metadata": {},
   "outputs": [
    {
     "data": {
      "text/plain": [
       "8.75"
      ]
     },
     "execution_count": 41,
     "metadata": {},
     "output_type": "execute_result"
    }
   ],
   "source": [
    "x5 / x6"
   ]
  },
  {
   "cell_type": "markdown",
   "id": "4930ba68",
   "metadata": {},
   "source": [
    "## Construct a short word made of separate strings"
   ]
  },
  {
   "cell_type": "code",
   "execution_count": 42,
   "id": "a8e7d9ba",
   "metadata": {},
   "outputs": [],
   "source": [
    "x7 = 's'"
   ]
  },
  {
   "cell_type": "code",
   "execution_count": 43,
   "id": "954a5c53",
   "metadata": {},
   "outputs": [],
   "source": [
    "x8 = 'o'"
   ]
  },
  {
   "cell_type": "code",
   "execution_count": 44,
   "id": "dea6a1e8",
   "metadata": {},
   "outputs": [],
   "source": [
    "x9 = 'u'"
   ]
  },
  {
   "cell_type": "code",
   "execution_count": 45,
   "id": "e809493e",
   "metadata": {},
   "outputs": [],
   "source": [
    "x10 = 'l'"
   ]
  },
  {
   "cell_type": "code",
   "execution_count": 46,
   "id": "0b26c7e5",
   "metadata": {},
   "outputs": [
    {
     "data": {
      "text/plain": [
       "'soul'"
      ]
     },
     "execution_count": 46,
     "metadata": {},
     "output_type": "execute_result"
    }
   ],
   "source": [
    "x7 + x8 + x9 + x10"
   ]
  },
  {
   "cell_type": "markdown",
   "id": "c5cb4e53",
   "metadata": {},
   "source": [
    "## Construct 2 short sentences made of separate strings"
   ]
  },
  {
   "cell_type": "code",
   "execution_count": 48,
   "id": "92486e07",
   "metadata": {},
   "outputs": [],
   "source": [
    "x11 = 'The '"
   ]
  },
  {
   "cell_type": "code",
   "execution_count": 49,
   "id": "a9925b4b",
   "metadata": {},
   "outputs": [],
   "source": [
    "x12 = 'house '"
   ]
  },
  {
   "cell_type": "code",
   "execution_count": 50,
   "id": "50ad5ab7",
   "metadata": {},
   "outputs": [],
   "source": [
    "x13 = 'is '"
   ]
  },
  {
   "cell_type": "code",
   "execution_count": 51,
   "id": "bb785fe6",
   "metadata": {},
   "outputs": [],
   "source": [
    "x14 = 'blue.'"
   ]
  },
  {
   "cell_type": "code",
   "execution_count": 52,
   "id": "37db5cd6",
   "metadata": {},
   "outputs": [
    {
     "data": {
      "text/plain": [
       "'The house is blue.'"
      ]
     },
     "execution_count": 52,
     "metadata": {},
     "output_type": "execute_result"
    }
   ],
   "source": [
    "x11 + x12 + x13 + x14"
   ]
  },
  {
   "attachments": {},
   "cell_type": "markdown",
   "id": "3c6d5e07",
   "metadata": {},
   "source": [
    "## Include a command that makes a string appear 100 times"
   ]
  },
  {
   "cell_type": "code",
   "execution_count": 3,
   "id": "a6764ed2",
   "metadata": {},
   "outputs": [],
   "source": [
    "x15 = 'hello '"
   ]
  },
  {
   "cell_type": "code",
   "execution_count": 4,
   "id": "5e92e978",
   "metadata": {},
   "outputs": [
    {
     "data": {
      "text/plain": [
       "'hello hello hello hello hello hello hello hello hello hello hello hello hello hello hello hello hello hello hello hello hello hello hello hello hello hello hello hello hello hello hello hello hello hello hello hello hello hello hello hello hello hello hello hello hello hello hello hello hello hello hello hello hello hello hello hello hello hello hello hello hello hello hello hello hello hello hello hello hello hello hello hello hello hello hello hello hello hello hello hello hello hello hello hello hello hello hello hello hello hello hello hello hello hello hello hello hello hello hello hello '"
      ]
     },
     "execution_count": 4,
     "metadata": {},
     "output_type": "execute_result"
    }
   ],
   "source": [
    "x15 * 100"
   ]
  },
  {
   "cell_type": "code",
   "execution_count": null,
   "id": "f195d6d3",
   "metadata": {},
   "outputs": [],
   "source": []
  }
 ],
 "metadata": {
  "kernelspec": {
   "display_name": "Python 3 (ipykernel)",
   "language": "python",
   "name": "python3"
  },
  "language_info": {
   "codemirror_mode": {
    "name": "ipython",
    "version": 3
   },
   "file_extension": ".py",
   "mimetype": "text/x-python",
   "name": "python",
   "nbconvert_exporter": "python",
   "pygments_lexer": "ipython3",
   "version": "3.11.3"
  }
 },
 "nbformat": 4,
 "nbformat_minor": 5
}
