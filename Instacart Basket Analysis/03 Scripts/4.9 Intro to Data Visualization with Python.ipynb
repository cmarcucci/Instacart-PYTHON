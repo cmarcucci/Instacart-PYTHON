{
 "cells": [
  {
   "cell_type": "markdown",
   "id": "72c0be8d",
   "metadata": {},
   "source": [
    "# 01.Import libraries and data"
   ]
  },
  {
   "cell_type": "code",
   "execution_count": 1,
   "id": "02cdab6a",
   "metadata": {},
   "outputs": [],
   "source": [
    "# Import libraries\n",
    "\n",
    "import pandas as pd\n",
    "import numpy as np\n",
    "import os\n",
    "import matplotlib.pyplot as plt\n",
    "import seaborn as sns\n",
    "import scipy"
   ]
  },
  {
   "cell_type": "code",
   "execution_count": 2,
   "id": "3fc41223",
   "metadata": {},
   "outputs": [],
   "source": [
    "# Turn folder path into a string \n",
    "\n",
    "path = r'C:\\Users\\carol\\Documents\\DA\\Data Inmersion\\04 Python Fundamentals for Data Analysts\\Instacart Basket Analysis'"
   ]
  },
  {
   "cell_type": "code",
   "execution_count": 3,
   "id": "569ae87a",
   "metadata": {},
   "outputs": [
    {
     "ename": "MemoryError",
     "evalue": "",
     "output_type": "error",
     "traceback": [
      "\u001b[1;31m---------------------------------------------------------------------------\u001b[0m",
      "\u001b[1;31mMemoryError\u001b[0m                               Traceback (most recent call last)",
      "Cell \u001b[1;32mIn[3], line 3\u001b[0m\n\u001b[0;32m      1\u001b[0m \u001b[38;5;66;03m# Import ords_prods_merged.pkl\u001b[39;00m\n\u001b[1;32m----> 3\u001b[0m ords_prods_merge \u001b[38;5;241m=\u001b[39m pd\u001b[38;5;241m.\u001b[39mread_pickle(os\u001b[38;5;241m.\u001b[39mpath\u001b[38;5;241m.\u001b[39mjoin(path, \u001b[38;5;124m'\u001b[39m\u001b[38;5;124m02 Data\u001b[39m\u001b[38;5;124m'\u001b[39m, \u001b[38;5;124m'\u001b[39m\u001b[38;5;124mPrepared Data\u001b[39m\u001b[38;5;124m'\u001b[39m, \u001b[38;5;124m'\u001b[39m\u001b[38;5;124morders_products_merged_3.pkl\u001b[39m\u001b[38;5;124m'\u001b[39m))\n",
      "File \u001b[1;32m~\\anaconda3\\Lib\\site-packages\\pandas\\io\\pickle.py:208\u001b[0m, in \u001b[0;36mread_pickle\u001b[1;34m(filepath_or_buffer, compression, storage_options)\u001b[0m\n\u001b[0;32m    205\u001b[0m     \u001b[38;5;28;01mwith\u001b[39;00m warnings\u001b[38;5;241m.\u001b[39mcatch_warnings(record\u001b[38;5;241m=\u001b[39m\u001b[38;5;28;01mTrue\u001b[39;00m):\n\u001b[0;32m    206\u001b[0m         \u001b[38;5;66;03m# We want to silence any warnings about, e.g. moved modules.\u001b[39;00m\n\u001b[0;32m    207\u001b[0m         warnings\u001b[38;5;241m.\u001b[39msimplefilter(\u001b[38;5;124m\"\u001b[39m\u001b[38;5;124mignore\u001b[39m\u001b[38;5;124m\"\u001b[39m, \u001b[38;5;167;01mWarning\u001b[39;00m)\n\u001b[1;32m--> 208\u001b[0m         \u001b[38;5;28;01mreturn\u001b[39;00m pickle\u001b[38;5;241m.\u001b[39mload(handles\u001b[38;5;241m.\u001b[39mhandle)\n\u001b[0;32m    209\u001b[0m \u001b[38;5;28;01mexcept\u001b[39;00m excs_to_catch:\n\u001b[0;32m    210\u001b[0m     \u001b[38;5;66;03m# e.g.\u001b[39;00m\n\u001b[0;32m    211\u001b[0m     \u001b[38;5;66;03m#  \"No module named 'pandas.core.sparse.series'\"\u001b[39;00m\n\u001b[0;32m    212\u001b[0m     \u001b[38;5;66;03m#  \"Can't get attribute '__nat_unpickle' on <module 'pandas._libs.tslib\"\u001b[39;00m\n\u001b[0;32m    213\u001b[0m     \u001b[38;5;28;01mreturn\u001b[39;00m pc\u001b[38;5;241m.\u001b[39mload(handles\u001b[38;5;241m.\u001b[39mhandle, encoding\u001b[38;5;241m=\u001b[39m\u001b[38;5;28;01mNone\u001b[39;00m)\n",
      "\u001b[1;31mMemoryError\u001b[0m: "
     ]
    }
   ],
   "source": [
    "# Import ords_prods_merged.pkl\n",
    "\n",
    "ords_prods_merge = pd.read_pickle(os.path.join(path, '02 Data', 'Prepared Data', 'orders_products_merged_3.pkl'))"
   ]
  },
  {
   "cell_type": "markdown",
   "id": "1c2ac930",
   "metadata": {},
   "source": [
    "# 02 Types of Charts"
   ]
  },
  {
   "cell_type": "markdown",
   "id": "df55d10c",
   "metadata": {},
   "source": [
    "## 1. Bar charts"
   ]
  },
  {
   "cell_type": "code",
   "execution_count": null,
   "id": "22f2792f",
   "metadata": {},
   "outputs": [],
   "source": [
    "# Create a bar chart\n",
    "\n",
    "ords_prods_merge['orders_day_of_week'].value_counts().plot.bar()"
   ]
  },
  {
   "cell_type": "code",
   "execution_count": null,
   "id": "d7c65895",
   "metadata": {},
   "outputs": [],
   "source": [
    "# Create a bar chart sorted by name\n",
    "\n",
    "day_of_week = ords_prods_merge['orders_day_of_week'].value_counts().sort_index().plot.bar()\n",
    "plt.title('Number of Orders by Day of the Week')"
   ]
  },
  {
   "cell_type": "code",
   "execution_count": null,
   "id": "34572cae",
   "metadata": {},
   "outputs": [],
   "source": [
    "# Export outside of jupyter\n",
    "\n",
    "day_of_week.figure.savefig(os.path.join(path, '04 Analysis','Visualizations', 'day_of_week.png'))"
   ]
  },
  {
   "cell_type": "code",
   "execution_count": null,
   "id": "885aa567",
   "metadata": {},
   "outputs": [],
   "source": [
    "# Create a bar chart sorted by name - color\n",
    "\n",
    "ords_prods_merge['orders_day_of_week'].value_counts().sort_index().plot.bar(color = ['purple','red','pink','orange','yellow','green','blue'])"
   ]
  },
  {
   "cell_type": "markdown",
   "id": "512fa1ce",
   "metadata": {},
   "source": [
    "## 2. Exporting Charts"
   ]
  },
  {
   "cell_type": "code",
   "execution_count": null,
   "id": "bf4c7736",
   "metadata": {},
   "outputs": [],
   "source": [
    "bar = ords_prods_merge['orders_day_of_week'].value_counts().plot.bar(color =['purple', 'red', 'pink', 'orange', 'yellow', 'green', 'blue'])"
   ]
  },
  {
   "cell_type": "code",
   "execution_count": null,
   "id": "edb0ab82",
   "metadata": {},
   "outputs": [],
   "source": [
    "# Export outside of jupyter\n",
    "\n",
    "bar.figure.savefig(os.path.join(path, '04 Analysis','Visualizations', 'bar_orders_dow.png'))"
   ]
  },
  {
   "cell_type": "markdown",
   "id": "1110d720",
   "metadata": {},
   "source": [
    "## 3. Histograms"
   ]
  },
  {
   "cell_type": "code",
   "execution_count": null,
   "id": "3eabcb03",
   "metadata": {},
   "outputs": [],
   "source": [
    "# Create histogram\n",
    "\n",
    "ords_prods_merge['prices'].plot.hist(bins = 25)"
   ]
  },
  {
   "cell_type": "code",
   "execution_count": null,
   "id": "51d6417b",
   "metadata": {},
   "outputs": [],
   "source": [
    "ords_prods_merge['prices'].mean()"
   ]
  },
  {
   "cell_type": "code",
   "execution_count": null,
   "id": "3e72f3a1",
   "metadata": {},
   "outputs": [],
   "source": [
    "ords_prods_merge['prices'].median()"
   ]
  },
  {
   "cell_type": "code",
   "execution_count": null,
   "id": "01f8d0d7",
   "metadata": {},
   "outputs": [],
   "source": [
    "ords_prods_merge['prices'].max()"
   ]
  },
  {
   "cell_type": "markdown",
   "id": "4e917487",
   "metadata": {},
   "source": [
    "## 4. Scatterplot"
   ]
  },
  {
   "cell_type": "code",
   "execution_count": null,
   "id": "37302d36",
   "metadata": {},
   "outputs": [],
   "source": [
    "# Create a scatterplot\n",
    "\n",
    "sns.scatterplot(x = 'prices', y = 'prices',data = ords_prods_merge)"
   ]
  },
  {
   "cell_type": "code",
   "execution_count": null,
   "id": "8fb86a59",
   "metadata": {},
   "outputs": [],
   "source": [
    "# Show items above 100\n",
    "\n",
    "ords_prods_merge.loc[ords_prods_merge['prices'] > 100]"
   ]
  },
  {
   "cell_type": "code",
   "execution_count": null,
   "id": "ba54c0db",
   "metadata": {},
   "outputs": [],
   "source": [
    "# Turn values >100 NaNs\n",
    "\n",
    "ords_prods_merge.loc[ords_prods_merge['prices'] >100, 'prices'] = np.nan"
   ]
  },
  {
   "cell_type": "code",
   "execution_count": null,
   "id": "6f9a9c6b",
   "metadata": {},
   "outputs": [],
   "source": [
    "# Check output\n",
    "\n",
    "ords_prods_merge['prices'].max()"
   ]
  },
  {
   "cell_type": "code",
   "execution_count": null,
   "id": "543c2362",
   "metadata": {},
   "outputs": [],
   "source": [
    "# Create histogram\n",
    "\n",
    "ords_prods_merge['prices'].plot.hist(bins = 25)"
   ]
  },
  {
   "cell_type": "code",
   "execution_count": null,
   "id": "b92d6f87",
   "metadata": {},
   "outputs": [],
   "source": [
    "# Create histogram\n",
    "\n",
    "ords_prods_merge['prices'].plot.hist(bins = 70)"
   ]
  },
  {
   "cell_type": "code",
   "execution_count": null,
   "id": "7c4202d5",
   "metadata": {},
   "outputs": [],
   "source": [
    "hist = ords_prods_merge['prices'].plot.hist(bins = 70)"
   ]
  },
  {
   "cell_type": "code",
   "execution_count": null,
   "id": "d8f867e1",
   "metadata": {},
   "outputs": [],
   "source": [
    "# Export outside of jupyter\n",
    "\n",
    "hist.figure.savefig(os.path.join(path, '04 Analysis','Visualizations', 'hist_prices.png'))"
   ]
  },
  {
   "cell_type": "markdown",
   "id": "53d2676f",
   "metadata": {},
   "source": [
    "## 5. Sampling Data"
   ]
  },
  {
   "cell_type": "code",
   "execution_count": null,
   "id": "bf6e7887",
   "metadata": {},
   "outputs": [],
   "source": [
    "# Create a list holding True/False values to test the np.random.rand() < 0.7\n",
    "\n",
    "np.random.seed(4)\n",
    "dev = np.random.rand(len(ords_prods_merge)) <= 0.7"
   ]
  },
  {
   "cell_type": "code",
   "execution_count": null,
   "id": "21efa0cf",
   "metadata": {},
   "outputs": [],
   "source": [
    "dev"
   ]
  },
  {
   "cell_type": "code",
   "execution_count": null,
   "id": "e4fe8197",
   "metadata": {},
   "outputs": [],
   "source": [
    "np.random.rand(10)"
   ]
  },
  {
   "cell_type": "code",
   "execution_count": null,
   "id": "b3450b9a",
   "metadata": {},
   "outputs": [],
   "source": [
    "# Store 70% of the sample in the dataframe big\n",
    "\n",
    "big = ords_prods_merge[dev]"
   ]
  },
  {
   "cell_type": "code",
   "execution_count": null,
   "id": "245ef8c2",
   "metadata": {},
   "outputs": [],
   "source": [
    "# Store 30% of the sample in the dataframe small\n",
    "\n",
    "small = ords_prods_merge[~dev]"
   ]
  },
  {
   "cell_type": "code",
   "execution_count": null,
   "id": "9524e0ac",
   "metadata": {},
   "outputs": [],
   "source": [
    "# Check output\n",
    "\n",
    "len(ords_prods_merge)"
   ]
  },
  {
   "cell_type": "code",
   "execution_count": null,
   "id": "96c1c898",
   "metadata": {},
   "outputs": [],
   "source": [
    "# Check output\n",
    "\n",
    "len(big) + len(small)"
   ]
  },
  {
   "cell_type": "code",
   "execution_count": null,
   "id": "71dda1e6",
   "metadata": {},
   "outputs": [],
   "source": [
    "# Chose neccesary columns\n",
    "\n",
    "df_2 = small[['orders_day_of_week','prices']]"
   ]
  },
  {
   "cell_type": "markdown",
   "id": "efec51b6",
   "metadata": {},
   "source": [
    "## 6. Line Charts"
   ]
  },
  {
   "cell_type": "code",
   "execution_count": null,
   "id": "dc4534f2",
   "metadata": {},
   "outputs": [],
   "source": [
    "# Create line chart\n",
    "\n",
    "line = sns.lineplot(data = df_2, x = 'orders_day_of_week',y = 'prices')"
   ]
  },
  {
   "cell_type": "code",
   "execution_count": null,
   "id": "3476ee64",
   "metadata": {},
   "outputs": [],
   "source": [
    "# Create a bar chart\n",
    "\n",
    "price_range_loc = ords_prods_merge['price_range_loc'].value_counts().plot.bar()\n",
    "plt.title('Number of Orders by Price Range')"
   ]
  },
  {
   "cell_type": "code",
   "execution_count": null,
   "id": "0620ed8a",
   "metadata": {},
   "outputs": [],
   "source": [
    "# Export\n",
    "\n",
    "price_range_loc.figure.savefig(os.path.join(path, '04 Analysis','Visualizations', 'price_range_loc.png'),bbox_inches='tight')"
   ]
  },
  {
   "cell_type": "code",
   "execution_count": null,
   "id": "104e7671",
   "metadata": {},
   "outputs": [],
   "source": [
    "ords_prods_merge.info()"
   ]
  },
  {
   "cell_type": "code",
   "execution_count": null,
   "id": "26436034",
   "metadata": {},
   "outputs": [],
   "source": [
    "# Create a bar chart\n",
    "\n",
    "loyalty_flag = ords_prods_merge['loyalty_flag'].value_counts().plot.bar()\n",
    "plt.title('Number of Orders by Type of Customer')"
   ]
  },
  {
   "cell_type": "code",
   "execution_count": null,
   "id": "b727de3f",
   "metadata": {},
   "outputs": [],
   "source": [
    "# Export\n",
    "\n",
    "loyalty_flag.figure.savefig(os.path.join(path, '04 Analysis','Visualizations', 'loyalty_flag.png'),bbox_inches='tight')"
   ]
  },
  {
   "cell_type": "code",
   "execution_count": null,
   "id": "9eb10179",
   "metadata": {},
   "outputs": [],
   "source": [
    "# Aggregate the max, mean, and min variables on a customer-profile level for usage frequency and expenditure.\n",
    "\n",
    "agg_loyalty_price = ords_prods_merge.groupby('loyalty_flag').agg({ 'prices':['min', 'mean', 'max']})"
   ]
  },
  {
   "cell_type": "code",
   "execution_count": null,
   "id": "7acddf10",
   "metadata": {},
   "outputs": [],
   "source": [
    "agg_loyalty_price.to_clipboard()"
   ]
  },
  {
   "cell_type": "code",
   "execution_count": null,
   "id": "56f0e321",
   "metadata": {},
   "outputs": [],
   "source": [
    "agg_loyalty_price"
   ]
  },
  {
   "cell_type": "code",
   "execution_count": null,
   "id": "604d38bd",
   "metadata": {},
   "outputs": [],
   "source": []
  }
 ],
 "metadata": {
  "kernelspec": {
   "display_name": "Python 3 (ipykernel)",
   "language": "python",
   "name": "python3"
  },
  "language_info": {
   "codemirror_mode": {
    "name": "ipython",
    "version": 3
   },
   "file_extension": ".py",
   "mimetype": "text/x-python",
   "name": "python",
   "nbconvert_exporter": "python",
   "pygments_lexer": "ipython3",
   "version": "3.11.3"
  }
 },
 "nbformat": 4,
 "nbformat_minor": 5
}
