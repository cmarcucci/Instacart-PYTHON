{
 "cells": [
  {
   "cell_type": "markdown",
   "id": "1ca10902",
   "metadata": {},
   "source": [
    "# 01. Importing libraries"
   ]
  },
  {
   "cell_type": "code",
   "execution_count": 58,
   "id": "544da991",
   "metadata": {},
   "outputs": [],
   "source": [
    "# Import libraries\n",
    "import pandas as pd\n",
    "import numpy as np\n",
    "import os"
   ]
  },
  {
   "cell_type": "markdown",
   "id": "23cf2bf4",
   "metadata": {},
   "source": [
    "# 02. Importing data"
   ]
  },
  {
   "cell_type": "code",
   "execution_count": 59,
   "id": "c97e1edd",
   "metadata": {},
   "outputs": [],
   "source": [
    "# Turn your project folder path into a string \n",
    "path = r'C:\\Users\\carol\\Documents\\DA\\Data Inmersion\\04 Python Fundamentals for Data Analysts\\Instacart Basket Analysis'"
   ]
  },
  {
   "cell_type": "code",
   "execution_count": 60,
   "id": "d3f137ff",
   "metadata": {},
   "outputs": [],
   "source": [
    "# Import orders.csv\n",
    "df_ords = pd.read_csv(os.path.join(path, '02 Data', 'Original Data', 'orders.csv'), index_col = False)"
   ]
  },
  {
   "cell_type": "code",
   "execution_count": 61,
   "id": "dd7345d1",
   "metadata": {},
   "outputs": [],
   "source": [
    "# Import products.csv\n",
    "df_prods = pd.read_csv(os.path.join(path, '02 Data', 'Original Data', 'products.csv'), index_col = False)"
   ]
  },
  {
   "cell_type": "markdown",
   "id": "bc03847d",
   "metadata": {},
   "source": [
    "# 03. Data wrangling"
   ]
  },
  {
   "cell_type": "code",
   "execution_count": 62,
   "id": "095c14b0",
   "metadata": {},
   "outputs": [],
   "source": [
    "# Drop eval_set column from orders.csv\n",
    "df_ords.drop(columns = ['eval_set'])"
   ]
  },
  {
   "cell_type": "code",
   "execution_count": 63,
   "id": "463d0a3c",
   "metadata": {},
   "outputs": [],
   "source": [
    "# Spot missing values in the days_since_prior_order column\n",
    "df_ords['days_since_prior_order'].value_counts(dropna = False)"
   ]
  },
  {
   "cell_type": "code",
   "execution_count": 64,
   "id": "ef32d9ba",
   "metadata": {},
   "outputs": [],
   "source": [
    "# Change name of column \"order_dow\" to orders_day_of_week\n",
    "df_ords.rename(columns = {'order_dow' : 'orders_day_of_week'}, inplace = True)"
   ]
  },
  {
   "cell_type": "code",
   "execution_count": 65,
   "id": "7fae5632",
   "metadata": {
    "scrolled": true
   },
   "outputs": [],
   "source": [
    "# Check whether the code was executed successfully \n",
    "df_ords.head() "
   ]
  },
  {
   "cell_type": "code",
   "execution_count": 66,
   "id": "80348025",
   "metadata": {},
   "outputs": [],
   "source": [
    "# change the data type of the \"order_id\" column from a number to a string\n",
    "df_ords['order_id'] = df_ords['order_id'].astype('str')"
   ]
  },
  {
   "cell_type": "code",
   "execution_count": 67,
   "id": "55bcaa6b",
   "metadata": {},
   "outputs": [],
   "source": [
    "#function to return the data type of your new \"order_id\" column\n",
    "df_ords['order_id'].dtype"
   ]
  },
  {
   "cell_type": "code",
   "execution_count": 68,
   "id": "23ece4ae",
   "metadata": {},
   "outputs": [],
   "source": [
    "# Import departments.csv\n",
    "df_dep = pd.read_csv(os.path.join(path, '02 Data', 'Original Data', 'departments.csv'), index_col = False)"
   ]
  },
  {
   "cell_type": "code",
   "execution_count": 69,
   "id": "b5bc1106",
   "metadata": {},
   "outputs": [],
   "source": [
    "df_dep.head()"
   ]
  },
  {
   "cell_type": "code",
   "execution_count": 70,
   "id": "1377c8d3",
   "metadata": {},
   "outputs": [],
   "source": [
    "# Transpose df_dep\n",
    "df_dep.T"
   ]
  },
  {
   "cell_type": "code",
   "execution_count": 71,
   "id": "7bad45b8",
   "metadata": {},
   "outputs": [],
   "source": [
    "# Overwrite the old df_dep dataframe with the new transposed df_dep dataframe\n",
    "df_dep_t = df_dep.T"
   ]
  },
  {
   "cell_type": "code",
   "execution_count": 72,
   "id": "07be6082",
   "metadata": {},
   "outputs": [],
   "source": [
    "df_dep_t"
   ]
  },
  {
   "cell_type": "code",
   "execution_count": 73,
   "id": "c9624cb4",
   "metadata": {},
   "outputs": [],
   "source": [
    "# Add an index to df_dep_t\n",
    "df_dep_t.reset_index()"
   ]
  },
  {
   "cell_type": "code",
   "execution_count": 74,
   "id": "affa3550",
   "metadata": {},
   "outputs": [],
   "source": [
    "# Take the first row of df_dep_t for the header\n",
    "new_header = df_dep_t.iloc[0]"
   ]
  },
  {
   "cell_type": "code",
   "execution_count": 75,
   "id": "ce8794e2",
   "metadata": {},
   "outputs": [],
   "source": [
    "new_header"
   ]
  },
  {
   "cell_type": "code",
   "execution_count": 76,
   "id": "09fa9537",
   "metadata": {},
   "outputs": [],
   "source": [
    "# Create a new dataframe that only copies over rows beyond the first row\n",
    "df_dep_t_new = df_dep_t[1:]"
   ]
  },
  {
   "cell_type": "code",
   "execution_count": 77,
   "id": "8a3dd883",
   "metadata": {},
   "outputs": [],
   "source": [
    "df_dep_t_new"
   ]
  },
  {
   "cell_type": "code",
   "execution_count": 78,
   "id": "8b9b8cd9",
   "metadata": {},
   "outputs": [],
   "source": [
    "# Tell Python to use the list of column names in your new_header variable as your new header\n",
    "df_dep_t_new.columns = new_header"
   ]
  },
  {
   "cell_type": "code",
   "execution_count": 79,
   "id": "c4a276a9",
   "metadata": {},
   "outputs": [],
   "source": [
    "df_dep_t_new"
   ]
  },
  {
   "cell_type": "code",
   "execution_count": 80,
   "id": "60944e89",
   "metadata": {},
   "outputs": [],
   "source": [
    "# Create a data dictionary\n",
    "data_dict = df_dep_t_new.to_dict('index')"
   ]
  },
  {
   "cell_type": "code",
   "execution_count": 81,
   "id": "365adf8d",
   "metadata": {},
   "outputs": [],
   "source": [
    "# Call data_dict variable\n",
    "data_dict"
   ]
  },
  {
   "cell_type": "code",
   "execution_count": 82,
   "id": "285fe4d8",
   "metadata": {},
   "outputs": [],
   "source": [
    "df_prods.head()"
   ]
  },
  {
   "cell_type": "code",
   "execution_count": 83,
   "id": "4d106530",
   "metadata": {},
   "outputs": [],
   "source": [
    "print(data_dict.get('19'))"
   ]
  },
  {
   "cell_type": "code",
   "execution_count": 84,
   "id": "5afe9334",
   "metadata": {},
   "outputs": [],
   "source": [
    "# create a subset for your df_prods dataframe that only contains data from the snacks department\n",
    "df_snacks =  df_prods[df_prods['department_id']==19]"
   ]
  },
  {
   "cell_type": "code",
   "execution_count": 85,
   "id": "1f34d7b0",
   "metadata": {},
   "outputs": [],
   "source": [
    "df_prods['department_id']==19"
   ]
  },
  {
   "cell_type": "code",
   "execution_count": 86,
   "id": "a782a248",
   "metadata": {},
   "outputs": [],
   "source": [
    "df_prods[df_prods['department_id']==19]"
   ]
  },
  {
   "cell_type": "code",
   "execution_count": 87,
   "id": "9f2be6c7",
   "metadata": {},
   "outputs": [],
   "source": [
    "df_snacks.head()"
   ]
  },
  {
   "cell_type": "code",
   "execution_count": 88,
   "id": "fef03355",
   "metadata": {},
   "outputs": [],
   "source": [
    "# create a subset for your df_prods dataframe that only contains data from the snacks department using the loc function\n",
    "df_snacks_2 = df_prods.loc[df_prods['department_id'] == 19]"
   ]
  },
  {
   "cell_type": "code",
   "execution_count": 89,
   "id": "abac2484",
   "metadata": {},
   "outputs": [],
   "source": [
    "df_snacks_2.head()"
   ]
  },
  {
   "cell_type": "markdown",
   "id": "5fdcd673",
   "metadata": {},
   "source": [
    "# Task 4.4"
   ]
  },
  {
   "cell_type": "markdown",
   "id": "265ce235",
   "metadata": {},
   "source": [
    "## 2. Find another identifier variable in the df_ords dataframe that doesn’t need to be included in your analysis as a numeric variable and change it to a suitable format."
   ]
  },
  {
   "cell_type": "code",
   "execution_count": 90,
   "id": "3a1dbdac",
   "metadata": {},
   "outputs": [],
   "source": [
    "df_ords.head()"
   ]
  },
  {
   "cell_type": "markdown",
   "id": "7cf85f64",
   "metadata": {},
   "source": [
    "### There would never be a need to calculate statistics for the \"user_id\" column— it doesn’t represent real numeric values, rather, keys related to specific users. "
   ]
  },
  {
   "cell_type": "code",
   "execution_count": 91,
   "id": "1bde9b4c",
   "metadata": {},
   "outputs": [],
   "source": [
    "# change the data type of the \"order_id\" column from a number to a string\n",
    "df_ords['user_id'] = df_ords['user_id'].astype('str')"
   ]
  },
  {
   "cell_type": "code",
   "execution_count": 92,
   "id": "ccd884fa",
   "metadata": {},
   "outputs": [],
   "source": [
    "#function to return the data type of your new \"order_id\" column\n",
    "df_ords['user_id'].dtype"
   ]
  },
  {
   "cell_type": "markdown",
   "id": "46246d5b",
   "metadata": {},
   "source": [
    "## 3. Look for a variable in your df_ords dataframe with an unintuitive name and change its name without overwriting the data frame."
   ]
  },
  {
   "cell_type": "markdown",
   "id": "23f573b0",
   "metadata": {},
   "source": [
    "### days_since_prior_order could be changed to days_since_last_order"
   ]
  },
  {
   "cell_type": "code",
   "execution_count": 93,
   "id": "54237001",
   "metadata": {},
   "outputs": [],
   "source": [
    "# Change name of column \"days_since_prior_order\" to days_since_last_order\n",
    "df_ords.rename(columns = {'days_since_prior_order' : 'days_since_last_order'}, inplace = True)"
   ]
  },
  {
   "cell_type": "code",
   "execution_count": 94,
   "id": "9ceca93a",
   "metadata": {},
   "outputs": [],
   "source": [
    "# Check whether the code was executed successfully \n",
    "df_ords.head() "
   ]
  },
  {
   "cell_type": "markdown",
   "id": "ee8815f2",
   "metadata": {},
   "source": [
    "## 4. Find the busiest hour for placing orders by finding the frequency of the corresponding variable."
   ]
  },
  {
   "cell_type": "code",
   "execution_count": 95,
   "id": "625398f6",
   "metadata": {},
   "outputs": [],
   "source": [
    "# Frequency order_hour_of_day column\n",
    "df_ords['order_hour_of_day'].value_counts(dropna = False)"
   ]
  },
  {
   "cell_type": "markdown",
   "id": "87fa813c",
   "metadata": {},
   "source": [
    "### The data suggests the busiert hour for placing orders is 10am"
   ]
  },
  {
   "cell_type": "markdown",
   "id": "557ca7e4",
   "metadata": {},
   "source": [
    "## 5. Determine the meaning behind a value of 4 in the \"department_id\" column within the df_prods dataframe using a data dictionary."
   ]
  },
  {
   "cell_type": "code",
   "execution_count": 96,
   "id": "32775587",
   "metadata": {},
   "outputs": [],
   "source": [
    "# use data_dict, the data dictionary previously created, to determine what 4 stands for:\n",
    "print(data_dict.get('4'))"
   ]
  },
  {
   "cell_type": "markdown",
   "id": "6dcef686",
   "metadata": {},
   "source": [
    "## 6. Create a subset containing only breakfast item sales"
   ]
  },
  {
   "cell_type": "code",
   "execution_count": 97,
   "id": "a9a80d1d",
   "metadata": {},
   "outputs": [],
   "source": [
    "# create a subset for the df_prods dataframe that only contains data from the snacks department using the loc function\n",
    "df_breakfast = df_prods.loc[df_prods['department_id'] == 14]"
   ]
  },
  {
   "cell_type": "code",
   "execution_count": 98,
   "id": "7b52bdc2",
   "metadata": {},
   "outputs": [],
   "source": [
    "# Check whether the code was executed successfully \n",
    "df_breakfast.head() "
   ]
  },
  {
   "cell_type": "markdown",
   "id": "b06573aa",
   "metadata": {},
   "source": [
    "## 7. Create a subset including items from the following departments: alcohol, deli, beverages, and meat/seafood"
   ]
  },
  {
   "cell_type": "code",
   "execution_count": 99,
   "id": "7c3da251",
   "metadata": {},
   "outputs": [],
   "source": [
    "# create a subset for the df_prods dataframe that only contains data from the a list of items using the loc/isin function\n",
    "df_parties = df_prods.loc[df_prods['department_id'].isin([5,20,7,12])]"
   ]
  },
  {
   "cell_type": "code",
   "execution_count": 100,
   "id": "7ad784a5",
   "metadata": {},
   "outputs": [],
   "source": [
    "df_parties.head() "
   ]
  },
  {
   "cell_type": "markdown",
   "id": "f38568d6",
   "metadata": {},
   "source": [
    "## 8. How many rows does the last dataframe you created have?"
   ]
  },
  {
   "cell_type": "code",
   "execution_count": 101,
   "id": "007a1855",
   "metadata": {},
   "outputs": [],
   "source": [
    "df_parties.shape"
   ]
  },
  {
   "cell_type": "markdown",
   "id": "9423a618",
   "metadata": {},
   "source": [
    "## 9. Extract all the information from the customer with a \"user_id\" of “1."
   ]
  },
  {
   "cell_type": "code",
   "execution_count": 102,
   "id": "62792eb2",
   "metadata": {},
   "outputs": [],
   "source": [
    "# create a subset for the df_ords dataframe that only contains data from the customer with a \"user_id\" of “1\n",
    "df_customer_1 =  df_ords[df_ords['user_id']=='1']"
   ]
  },
  {
   "cell_type": "code",
   "execution_count": 103,
   "id": "a7f68041",
   "metadata": {},
   "outputs": [],
   "source": [
    "## All orders place by custmer with user id of 1\n",
    "df_customer_1"
   ]
  },
  {
   "cell_type": "markdown",
   "id": "bd8204b4",
   "metadata": {},
   "source": [
    "## 10.  Provide some details about this user’s behavior"
   ]
  },
  {
   "cell_type": "code",
   "execution_count": 104,
   "id": "fb83ba66",
   "metadata": {},
   "outputs": [],
   "source": [
    "df_customer_1.describe()"
   ]
  },
  {
   "cell_type": "code",
   "execution_count": 105,
   "id": "4943d4a6",
   "metadata": {},
   "outputs": [],
   "source": [
    "# Frequency order_hour_of_day column\n",
    "df_customer_1['orders_day_of_week'].value_counts(dropna = False)"
   ]
  },
  {
   "cell_type": "markdown",
   "id": "cd9ca051",
   "metadata": {},
   "source": [
    "### This customers has placed 11 orders and a third of these orders were placed on day 4."
   ]
  },
  {
   "cell_type": "markdown",
   "id": "24a546fa",
   "metadata": {},
   "source": [
    "## 12. Export your df_ords dataframe as “orders_wrangled.csv” in your “Prepared Data” folder."
   ]
  },
  {
   "cell_type": "code",
   "execution_count": 106,
   "id": "70e14722",
   "metadata": {},
   "outputs": [],
   "source": [
    "df_ords.to_csv(os.path.join(path, '02 Data','Prepared Data', 'orders_wrangled.csv'))"
   ]
  },
  {
   "cell_type": "markdown",
   "id": "b09dd8a2",
   "metadata": {},
   "source": [
    "## 13. Export the df_dep_t_new dataframe as “departments_wrangled.csv” in your “Prepared Data” folder so that you have a “.csv” file of your departments data in the correct format."
   ]
  },
  {
   "cell_type": "code",
   "execution_count": 107,
   "id": "a8a0a6ef",
   "metadata": {},
   "outputs": [],
   "source": [
    "df_dep_t_new.to_csv(os.path.join(path, '02 Data','Prepared Data', 'departments_wrangled.csv'))"
   ]
  },
  {
   "cell_type": "code",
   "execution_count": null,
   "id": "b5e9212b",
   "metadata": {},
   "outputs": [],
   "source": []
  }
 ],
 "metadata": {
  "kernelspec": {
   "display_name": "Python 3 (ipykernel)",
   "language": "python",
   "name": "python3"
  },
  "language_info": {
   "codemirror_mode": {
    "name": "ipython",
    "version": 3
   },
   "file_extension": ".py",
   "mimetype": "text/x-python",
   "name": "python",
   "nbconvert_exporter": "python",
   "pygments_lexer": "ipython3",
   "version": "3.11.3"
  }
 },
 "nbformat": 4,
 "nbformat_minor": 5
}
